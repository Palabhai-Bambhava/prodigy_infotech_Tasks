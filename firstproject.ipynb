{
 "cells": [
  {
   "cell_type": "code",
   "execution_count": 1,
   "id": "fea213d3-0906-4e46-90cf-27f9c48892ba",
   "metadata": {},
   "outputs": [],
   "source": [
    "import pandas as pd\n",
    "import matplotlib.pyplot as plt\n",
    "%matplotlib inline"
   ]
  },
  {
   "cell_type": "code",
   "execution_count": 2,
   "id": "fecdbb38-1a82-4bc9-a056-f25bec9cd204",
   "metadata": {},
   "outputs": [
    {
     "name": "stdout",
     "output_type": "stream",
     "text": [
      "                      Title            Director        Genre Release Date  \\\n",
      "0       Key entire popular.      Anthony Becker       Horror   1981-05-12   \n",
      "1       Gun husband reveal.     William Johnson  Documentary   2016-06-13   \n",
      "2              Crime cover.              Amy Le        Drama   1988-03-22   \n",
      "3                Challenge.     Andrea Martinez      Romance   2013-04-01   \n",
      "4              Close study.     Michael Rodgers      Fantasy   2012-10-18   \n",
      "...                     ...                 ...          ...          ...   \n",
      "29995             Daughter.      Richard Nelson      Romance   2007-03-12   \n",
      "29996               Simply.    Jeffrey Hatfield      Fantasy   2011-08-16   \n",
      "29997   Also authority nor.          Ryan Brown       Action   1998-05-07   \n",
      "29998    Total report upon.  Melissa Stephenson       Comedy   2008-06-06   \n",
      "29999  Shoulder above note.       Cathy Edwards       Horror   2015-10-19   \n",
      "\n",
      "       Duration  Rating  \n",
      "0           102     6.8  \n",
      "1            92     7.6  \n",
      "2           144     5.5  \n",
      "3           161     2.0  \n",
      "4           177     3.7  \n",
      "...         ...     ...  \n",
      "29995       177     8.0  \n",
      "29996       126     5.7  \n",
      "29997        73     4.9  \n",
      "29998       145     6.9  \n",
      "29999        85     6.3  \n",
      "\n",
      "[30000 rows x 6 columns]\n"
     ]
    }
   ],
   "source": [
    "movie_set = pd.read_csv(\"C:\\\\Users\\\\BAPS\\\\OneDrive\\\\Desktop\\\\python.j\\\\movie_csv.csv\")\n",
    "print(movie_set)\n"
   ]
  },
  {
   "cell_type": "code",
   "execution_count": 3,
   "id": "c2ff029f-9932-49a1-8307-6494e7486d52",
   "metadata": {},
   "outputs": [
    {
     "data": {
      "text/html": [
       "<div>\n",
       "<style scoped>\n",
       "    .dataframe tbody tr th:only-of-type {\n",
       "        vertical-align: middle;\n",
       "    }\n",
       "\n",
       "    .dataframe tbody tr th {\n",
       "        vertical-align: top;\n",
       "    }\n",
       "\n",
       "    .dataframe thead th {\n",
       "        text-align: right;\n",
       "    }\n",
       "</style>\n",
       "<table border=\"1\" class=\"dataframe\">\n",
       "  <thead>\n",
       "    <tr style=\"text-align: right;\">\n",
       "      <th></th>\n",
       "      <th>Title</th>\n",
       "      <th>Director</th>\n",
       "      <th>Genre</th>\n",
       "      <th>Release Date</th>\n",
       "      <th>Duration</th>\n",
       "      <th>Rating</th>\n",
       "    </tr>\n",
       "  </thead>\n",
       "  <tbody>\n",
       "    <tr>\n",
       "      <th>0</th>\n",
       "      <td>Key entire popular.</td>\n",
       "      <td>Anthony Becker</td>\n",
       "      <td>Horror</td>\n",
       "      <td>1981-05-12</td>\n",
       "      <td>102</td>\n",
       "      <td>6.8</td>\n",
       "    </tr>\n",
       "    <tr>\n",
       "      <th>1</th>\n",
       "      <td>Gun husband reveal.</td>\n",
       "      <td>William Johnson</td>\n",
       "      <td>Documentary</td>\n",
       "      <td>2016-06-13</td>\n",
       "      <td>92</td>\n",
       "      <td>7.6</td>\n",
       "    </tr>\n",
       "    <tr>\n",
       "      <th>2</th>\n",
       "      <td>Crime cover.</td>\n",
       "      <td>Amy Le</td>\n",
       "      <td>Drama</td>\n",
       "      <td>1988-03-22</td>\n",
       "      <td>144</td>\n",
       "      <td>5.5</td>\n",
       "    </tr>\n",
       "    <tr>\n",
       "      <th>3</th>\n",
       "      <td>Challenge.</td>\n",
       "      <td>Andrea Martinez</td>\n",
       "      <td>Romance</td>\n",
       "      <td>2013-04-01</td>\n",
       "      <td>161</td>\n",
       "      <td>2.0</td>\n",
       "    </tr>\n",
       "    <tr>\n",
       "      <th>4</th>\n",
       "      <td>Close study.</td>\n",
       "      <td>Michael Rodgers</td>\n",
       "      <td>Fantasy</td>\n",
       "      <td>2012-10-18</td>\n",
       "      <td>177</td>\n",
       "      <td>3.7</td>\n",
       "    </tr>\n",
       "  </tbody>\n",
       "</table>\n",
       "</div>"
      ],
      "text/plain": [
       "                 Title         Director        Genre Release Date  Duration  \\\n",
       "0  Key entire popular.   Anthony Becker       Horror   1981-05-12       102   \n",
       "1  Gun husband reveal.  William Johnson  Documentary   2016-06-13        92   \n",
       "2         Crime cover.           Amy Le        Drama   1988-03-22       144   \n",
       "3           Challenge.  Andrea Martinez      Romance   2013-04-01       161   \n",
       "4         Close study.  Michael Rodgers      Fantasy   2012-10-18       177   \n",
       "\n",
       "   Rating  \n",
       "0     6.8  \n",
       "1     7.6  \n",
       "2     5.5  \n",
       "3     2.0  \n",
       "4     3.7  "
      ]
     },
     "execution_count": 3,
     "metadata": {},
     "output_type": "execute_result"
    }
   ],
   "source": [
    "movie_set.head()  "
   ]
  },
  {
   "cell_type": "code",
   "execution_count": 4,
   "id": "aee09d54-d4f9-4468-a1e9-5f62fdd50280",
   "metadata": {},
   "outputs": [
    {
     "name": "stdout",
     "output_type": "stream",
     "text": [
      "<class 'pandas.core.frame.DataFrame'>\n",
      "RangeIndex: 30000 entries, 0 to 29999\n",
      "Data columns (total 6 columns):\n",
      " #   Column        Non-Null Count  Dtype  \n",
      "---  ------        --------------  -----  \n",
      " 0   Title         30000 non-null  object \n",
      " 1   Director      30000 non-null  object \n",
      " 2   Genre         30000 non-null  object \n",
      " 3   Release Date  30000 non-null  object \n",
      " 4   Duration      30000 non-null  int64  \n",
      " 5   Rating        30000 non-null  float64\n",
      "dtypes: float64(1), int64(1), object(4)\n",
      "memory usage: 1.4+ MB\n"
     ]
    }
   ],
   "source": [
    "movie_set.info()"
   ]
  },
  {
   "cell_type": "code",
   "execution_count": 5,
   "id": "57163a44-f970-4c1f-ba78-a7c6cdff0d4a",
   "metadata": {},
   "outputs": [],
   "source": [
    "data=pd.DataFrame(movie_set)"
   ]
  },
  {
   "cell_type": "code",
   "execution_count": 6,
   "id": "00d5d140-f9a3-4f70-8c92-523c9de82470",
   "metadata": {},
   "outputs": [
    {
     "data": {
      "text/html": [
       "<div>\n",
       "<style scoped>\n",
       "    .dataframe tbody tr th:only-of-type {\n",
       "        vertical-align: middle;\n",
       "    }\n",
       "\n",
       "    .dataframe tbody tr th {\n",
       "        vertical-align: top;\n",
       "    }\n",
       "\n",
       "    .dataframe thead th {\n",
       "        text-align: right;\n",
       "    }\n",
       "</style>\n",
       "<table border=\"1\" class=\"dataframe\">\n",
       "  <thead>\n",
       "    <tr style=\"text-align: right;\">\n",
       "      <th></th>\n",
       "      <th>Title</th>\n",
       "      <th>Director</th>\n",
       "      <th>Genre</th>\n",
       "      <th>Release Date</th>\n",
       "      <th>Duration</th>\n",
       "      <th>Rating</th>\n",
       "    </tr>\n",
       "  </thead>\n",
       "  <tbody>\n",
       "    <tr>\n",
       "      <th>0</th>\n",
       "      <td>Key entire popular.</td>\n",
       "      <td>Anthony Becker</td>\n",
       "      <td>Horror</td>\n",
       "      <td>1981-05-12</td>\n",
       "      <td>102</td>\n",
       "      <td>6.8</td>\n",
       "    </tr>\n",
       "    <tr>\n",
       "      <th>1</th>\n",
       "      <td>Gun husband reveal.</td>\n",
       "      <td>William Johnson</td>\n",
       "      <td>Documentary</td>\n",
       "      <td>2016-06-13</td>\n",
       "      <td>92</td>\n",
       "      <td>7.6</td>\n",
       "    </tr>\n",
       "    <tr>\n",
       "      <th>2</th>\n",
       "      <td>Crime cover.</td>\n",
       "      <td>Amy Le</td>\n",
       "      <td>Drama</td>\n",
       "      <td>1988-03-22</td>\n",
       "      <td>144</td>\n",
       "      <td>5.5</td>\n",
       "    </tr>\n",
       "    <tr>\n",
       "      <th>3</th>\n",
       "      <td>Challenge.</td>\n",
       "      <td>Andrea Martinez</td>\n",
       "      <td>Romance</td>\n",
       "      <td>2013-04-01</td>\n",
       "      <td>161</td>\n",
       "      <td>2.0</td>\n",
       "    </tr>\n",
       "    <tr>\n",
       "      <th>4</th>\n",
       "      <td>Close study.</td>\n",
       "      <td>Michael Rodgers</td>\n",
       "      <td>Fantasy</td>\n",
       "      <td>2012-10-18</td>\n",
       "      <td>177</td>\n",
       "      <td>3.7</td>\n",
       "    </tr>\n",
       "    <tr>\n",
       "      <th>...</th>\n",
       "      <td>...</td>\n",
       "      <td>...</td>\n",
       "      <td>...</td>\n",
       "      <td>...</td>\n",
       "      <td>...</td>\n",
       "      <td>...</td>\n",
       "    </tr>\n",
       "    <tr>\n",
       "      <th>29995</th>\n",
       "      <td>Daughter.</td>\n",
       "      <td>Richard Nelson</td>\n",
       "      <td>Romance</td>\n",
       "      <td>2007-03-12</td>\n",
       "      <td>177</td>\n",
       "      <td>8.0</td>\n",
       "    </tr>\n",
       "    <tr>\n",
       "      <th>29996</th>\n",
       "      <td>Simply.</td>\n",
       "      <td>Jeffrey Hatfield</td>\n",
       "      <td>Fantasy</td>\n",
       "      <td>2011-08-16</td>\n",
       "      <td>126</td>\n",
       "      <td>5.7</td>\n",
       "    </tr>\n",
       "    <tr>\n",
       "      <th>29997</th>\n",
       "      <td>Also authority nor.</td>\n",
       "      <td>Ryan Brown</td>\n",
       "      <td>Action</td>\n",
       "      <td>1998-05-07</td>\n",
       "      <td>73</td>\n",
       "      <td>4.9</td>\n",
       "    </tr>\n",
       "    <tr>\n",
       "      <th>29998</th>\n",
       "      <td>Total report upon.</td>\n",
       "      <td>Melissa Stephenson</td>\n",
       "      <td>Comedy</td>\n",
       "      <td>2008-06-06</td>\n",
       "      <td>145</td>\n",
       "      <td>6.9</td>\n",
       "    </tr>\n",
       "    <tr>\n",
       "      <th>29999</th>\n",
       "      <td>Shoulder above note.</td>\n",
       "      <td>Cathy Edwards</td>\n",
       "      <td>Horror</td>\n",
       "      <td>2015-10-19</td>\n",
       "      <td>85</td>\n",
       "      <td>6.3</td>\n",
       "    </tr>\n",
       "  </tbody>\n",
       "</table>\n",
       "<p>30000 rows × 6 columns</p>\n",
       "</div>"
      ],
      "text/plain": [
       "                      Title            Director        Genre Release Date  \\\n",
       "0       Key entire popular.      Anthony Becker       Horror   1981-05-12   \n",
       "1       Gun husband reveal.     William Johnson  Documentary   2016-06-13   \n",
       "2              Crime cover.              Amy Le        Drama   1988-03-22   \n",
       "3                Challenge.     Andrea Martinez      Romance   2013-04-01   \n",
       "4              Close study.     Michael Rodgers      Fantasy   2012-10-18   \n",
       "...                     ...                 ...          ...          ...   \n",
       "29995             Daughter.      Richard Nelson      Romance   2007-03-12   \n",
       "29996               Simply.    Jeffrey Hatfield      Fantasy   2011-08-16   \n",
       "29997   Also authority nor.          Ryan Brown       Action   1998-05-07   \n",
       "29998    Total report upon.  Melissa Stephenson       Comedy   2008-06-06   \n",
       "29999  Shoulder above note.       Cathy Edwards       Horror   2015-10-19   \n",
       "\n",
       "       Duration  Rating  \n",
       "0           102     6.8  \n",
       "1            92     7.6  \n",
       "2           144     5.5  \n",
       "3           161     2.0  \n",
       "4           177     3.7  \n",
       "...         ...     ...  \n",
       "29995       177     8.0  \n",
       "29996       126     5.7  \n",
       "29997        73     4.9  \n",
       "29998       145     6.9  \n",
       "29999        85     6.3  \n",
       "\n",
       "[30000 rows x 6 columns]"
      ]
     },
     "execution_count": 6,
     "metadata": {},
     "output_type": "execute_result"
    }
   ],
   "source": [
    "data"
   ]
  },
  {
   "cell_type": "code",
   "execution_count": 7,
   "id": "153e1c9b-b043-4c3e-bfc7-d9953f54ff4d",
   "metadata": {},
   "outputs": [
    {
     "name": "stdout",
     "output_type": "stream",
     "text": [
      "<class 'pandas.core.frame.DataFrame'>\n",
      "RangeIndex: 30000 entries, 0 to 29999\n",
      "Data columns (total 6 columns):\n",
      " #   Column        Non-Null Count  Dtype  \n",
      "---  ------        --------------  -----  \n",
      " 0   Title         30000 non-null  object \n",
      " 1   Director      30000 non-null  object \n",
      " 2   Genre         30000 non-null  object \n",
      " 3   Release Date  30000 non-null  object \n",
      " 4   Duration      30000 non-null  int64  \n",
      " 5   Rating        30000 non-null  float64\n",
      "dtypes: float64(1), int64(1), object(4)\n",
      "memory usage: 1.4+ MB\n"
     ]
    }
   ],
   "source": [
    "data.info()"
   ]
  },
  {
   "cell_type": "code",
   "execution_count": 8,
   "id": "826b68f7-d4db-47a3-a1d1-bb69d5ad5929",
   "metadata": {},
   "outputs": [
    {
     "data": {
      "text/plain": [
       "<Figure size 1000x500 with 0 Axes>"
      ]
     },
     "execution_count": 8,
     "metadata": {},
     "output_type": "execute_result"
    },
    {
     "data": {
      "text/plain": [
       "<Figure size 1000x500 with 0 Axes>"
      ]
     },
     "metadata": {},
     "output_type": "display_data"
    }
   ],
   "source": [
    "plt.figure(figsize=(10,5))"
   ]
  },
  {
   "cell_type": "code",
   "execution_count": 9,
   "id": "f137cb46-9658-4e9b-b97d-eb2b70c023c2",
   "metadata": {},
   "outputs": [
    {
     "data": {
      "image/png": "[encoded data removed]",
      "text/plain": [
       "<Figure size 640x480 with 1 Axes>"
      ]
     },
     "metadata": {},
     "output_type": "display_data"
    }
   ],
   "source": [
    "\n",
    "x = list(data.iloc[:0])\n",
    "y = list(data.iloc[:1])\n",
    "plt.bar(x,y,color='red')\n",
    "plt.title(\"Bar chart\")\n",
    "plt.xlabel(\"value\")\n",
    "plt.ylabel(\"value\")\n",
    "plt.show()         "
   ]
  },
  {
   "cell_type": "code",
   "execution_count": 11,
   "id": "dee98bdd-04c4-4091-acb7-33884d203c60",
   "metadata": {},
   "outputs": [
    {
     "data": {
      "image/png": "[encoded data removed]",
      "text/plain": [
       "<Figure size 640x480 with 1 Axes>"
      ]
     },
     "metadata": {},
     "output_type": "display_data"
    }
   ],
   "source": [
    "plt.hist(y,bins=10,color='yellow',edgecolor='black')\n",
    "plt.show()"
   ]
  },
  {
   "cell_type": "code",
   "execution_count": null,
   "id": "d66bea1c-b2e0-4148-9c73-8f9626068cb5",
   "metadata": {},
   "outputs": [],
   "source": []
  }
 ],
 "metadata": {
  "kernelspec": {
   "display_name": "Python 3 (ipykernel)",
   "language": "python",
   "name": "python3"
  },
  "language_info": {
   "codemirror_mode": {
    "name": "ipython",
    "version": 3
   },
   "file_extension": ".py",
   "mimetype": "text/x-python",
   "name": "python",
   "nbconvert_exporter": "python",
   "pygments_lexer": "ipython3",
   "version": "3.12.4"
  }
 },
 "nbformat": 4,
 "nbformat_minor": 5
}
